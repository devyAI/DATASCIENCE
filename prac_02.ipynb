{
 "cells": [
  {
   "cell_type": "markdown",
   "metadata": {},
   "source": [
    "# Data Wrangling II\n",
    "Create an “Academic performance” dataset of students and perform the following operations using\n",
    "Python.\n",
    "1. Scan all variables for missing values and inconsistencies. If there are missing values and/or\n",
    "inconsistencies, use any of the suitable techniques to deal with them.\n",
    "2. Scan all numeric variables for outliers. If there are outliers, use any of the suitable techniques\n",
    "to deal with them.\n",
    "3. Apply data transformations on at least one of the variables. The purpose of this\n",
    "transformation should be one of the following reasons: to change the scale for better\n",
    "understanding of the variable, to convert a non-linear relation into a linear one, or to decrease\n",
    "the skewness and convert the distribution into a normal distribution.\n",
    "Reason and document your approach properly."
   ]
  },
  {
   "cell_type": "code",
   "execution_count": 69,
   "metadata": {},
   "outputs": [],
   "source": [
    "import pandas as pd \n",
    "import numpy as np"
   ]
  },
  {
   "cell_type": "code",
   "execution_count": 70,
   "metadata": {},
   "outputs": [],
   "source": [
    "np.random.seed(42)\n",
    "data = { \n",
    "    \"student_ID\" : range(1,101),\n",
    "    \"Age\" : np.random.randint(18,25,100),\n",
    "    \"gender\" : np.random.choice(['male','female'], 100),\n",
    "    \"study_hours\" : np.append(np.random.normal(3,1,95), [13,11,0,2,6]),\n",
    "    \"attendance\" : np.random.uniform(60,100,100),\n",
    "    \"Test_Score\": np.append(np.random.normal(70, 10, 97), [30, 32, 28]),\n",
    "    \"gpa\" : np.random.normal(3.0,0.5,100)\n",
    "\n",
    "}"
   ]
  },
  {
   "cell_type": "code",
   "execution_count": 71,
   "metadata": {},
   "outputs": [
    {
     "data": {
      "text/html": [
       "<div>\n",
       "<style scoped>\n",
       "    .dataframe tbody tr th:only-of-type {\n",
       "        vertical-align: middle;\n",
       "    }\n",
       "\n",
       "    .dataframe tbody tr th {\n",
       "        vertical-align: top;\n",
       "    }\n",
       "\n",
       "    .dataframe thead th {\n",
       "        text-align: right;\n",
       "    }\n",
       "</style>\n",
       "<table border=\"1\" class=\"dataframe\">\n",
       "  <thead>\n",
       "    <tr style=\"text-align: right;\">\n",
       "      <th></th>\n",
       "      <th>student_ID</th>\n",
       "      <th>Age</th>\n",
       "      <th>gender</th>\n",
       "      <th>study_hours</th>\n",
       "      <th>attendance</th>\n",
       "      <th>Test_Score</th>\n",
       "      <th>gpa</th>\n",
       "    </tr>\n",
       "  </thead>\n",
       "  <tbody>\n",
       "    <tr>\n",
       "      <th>0</th>\n",
       "      <td>1</td>\n",
       "      <td>24</td>\n",
       "      <td>female</td>\n",
       "      <td>4.477894</td>\n",
       "      <td>83.076155</td>\n",
       "      <td>84.535341</td>\n",
       "      <td>2.990492</td>\n",
       "    </tr>\n",
       "    <tr>\n",
       "      <th>1</th>\n",
       "      <td>2</td>\n",
       "      <td>21</td>\n",
       "      <td>female</td>\n",
       "      <td>2.481730</td>\n",
       "      <td>79.700708</td>\n",
       "      <td>74.438194</td>\n",
       "      <td>2.498735</td>\n",
       "    </tr>\n",
       "    <tr>\n",
       "      <th>2</th>\n",
       "      <td>3</td>\n",
       "      <td>22</td>\n",
       "      <td>male</td>\n",
       "      <td>2.191506</td>\n",
       "      <td>67.809720</td>\n",
       "      <td>77.746341</td>\n",
       "      <td>2.990743</td>\n",
       "    </tr>\n",
       "    <tr>\n",
       "      <th>3</th>\n",
       "      <td>4</td>\n",
       "      <td>24</td>\n",
       "      <td>female</td>\n",
       "      <td>2.498243</td>\n",
       "      <td>88.898085</td>\n",
       "      <td>60.730695</td>\n",
       "      <td>2.855671</td>\n",
       "    </tr>\n",
       "    <tr>\n",
       "      <th>4</th>\n",
       "      <td>5</td>\n",
       "      <td>20</td>\n",
       "      <td>male</td>\n",
       "      <td>3.915402</td>\n",
       "      <td>71.230894</td>\n",
       "      <td>69.404746</td>\n",
       "      <td>3.161359</td>\n",
       "    </tr>\n",
       "  </tbody>\n",
       "</table>\n",
       "</div>"
      ],
      "text/plain": [
       "   student_ID  Age  gender  study_hours  attendance  Test_Score       gpa\n",
       "0           1   24  female     4.477894   83.076155   84.535341  2.990492\n",
       "1           2   21  female     2.481730   79.700708   74.438194  2.498735\n",
       "2           3   22    male     2.191506   67.809720   77.746341  2.990743\n",
       "3           4   24  female     2.498243   88.898085   60.730695  2.855671\n",
       "4           5   20    male     3.915402   71.230894   69.404746  3.161359"
      ]
     },
     "execution_count": 71,
     "metadata": {},
     "output_type": "execute_result"
    }
   ],
   "source": [
    "df = pd.DataFrame(data)\n",
    "df.head()"
   ]
  },
  {
   "cell_type": "code",
   "execution_count": 72,
   "metadata": {},
   "outputs": [
    {
     "data": {
      "text/plain": [
       "student_ID     0\n",
       "Age            0\n",
       "gender         0\n",
       "study_hours    0\n",
       "attendance     0\n",
       "Test_Score     0\n",
       "gpa            0\n",
       "dtype: int64"
      ]
     },
     "execution_count": 72,
     "metadata": {},
     "output_type": "execute_result"
    }
   ],
   "source": [
    "df.isnull().sum()"
   ]
  },
  {
   "cell_type": "code",
   "execution_count": 73,
   "metadata": {},
   "outputs": [
    {
     "data": {
      "text/html": [
       "<div>\n",
       "<style scoped>\n",
       "    .dataframe tbody tr th:only-of-type {\n",
       "        vertical-align: middle;\n",
       "    }\n",
       "\n",
       "    .dataframe tbody tr th {\n",
       "        vertical-align: top;\n",
       "    }\n",
       "\n",
       "    .dataframe thead th {\n",
       "        text-align: right;\n",
       "    }\n",
       "</style>\n",
       "<table border=\"1\" class=\"dataframe\">\n",
       "  <thead>\n",
       "    <tr style=\"text-align: right;\">\n",
       "      <th></th>\n",
       "      <th>student_ID</th>\n",
       "      <th>Age</th>\n",
       "      <th>gender</th>\n",
       "      <th>study_hours</th>\n",
       "      <th>attendance</th>\n",
       "      <th>Test_Score</th>\n",
       "      <th>gpa</th>\n",
       "    </tr>\n",
       "  </thead>\n",
       "  <tbody>\n",
       "    <tr>\n",
       "      <th>0</th>\n",
       "      <td>1</td>\n",
       "      <td>24</td>\n",
       "      <td>female</td>\n",
       "      <td>4.477894</td>\n",
       "      <td>83.076155</td>\n",
       "      <td>84.535341</td>\n",
       "      <td>2.990492</td>\n",
       "    </tr>\n",
       "    <tr>\n",
       "      <th>1</th>\n",
       "      <td>2</td>\n",
       "      <td>21</td>\n",
       "      <td>female</td>\n",
       "      <td>2.481730</td>\n",
       "      <td>79.700708</td>\n",
       "      <td>NaN</td>\n",
       "      <td>2.498735</td>\n",
       "    </tr>\n",
       "    <tr>\n",
       "      <th>2</th>\n",
       "      <td>3</td>\n",
       "      <td>22</td>\n",
       "      <td>male</td>\n",
       "      <td>2.191506</td>\n",
       "      <td>67.809720</td>\n",
       "      <td>77.746341</td>\n",
       "      <td>2.990743</td>\n",
       "    </tr>\n",
       "    <tr>\n",
       "      <th>3</th>\n",
       "      <td>4</td>\n",
       "      <td>24</td>\n",
       "      <td>female</td>\n",
       "      <td>2.498243</td>\n",
       "      <td>88.898085</td>\n",
       "      <td>60.730695</td>\n",
       "      <td>2.855671</td>\n",
       "    </tr>\n",
       "    <tr>\n",
       "      <th>4</th>\n",
       "      <td>5</td>\n",
       "      <td>20</td>\n",
       "      <td>male</td>\n",
       "      <td>3.915402</td>\n",
       "      <td>71.230894</td>\n",
       "      <td>NaN</td>\n",
       "      <td>3.161359</td>\n",
       "    </tr>\n",
       "    <tr>\n",
       "      <th>5</th>\n",
       "      <td>6</td>\n",
       "      <td>22</td>\n",
       "      <td>female</td>\n",
       "      <td>NaN</td>\n",
       "      <td>60.972639</td>\n",
       "      <td>NaN</td>\n",
       "      <td>2.586385</td>\n",
       "    </tr>\n",
       "    <tr>\n",
       "      <th>6</th>\n",
       "      <td>7</td>\n",
       "      <td>22</td>\n",
       "      <td>female</td>\n",
       "      <td>2.470240</td>\n",
       "      <td>85.818892</td>\n",
       "      <td>59.756124</td>\n",
       "      <td>3.259673</td>\n",
       "    </tr>\n",
       "  </tbody>\n",
       "</table>\n",
       "</div>"
      ],
      "text/plain": [
       "   student_ID  Age  gender  study_hours  attendance  Test_Score       gpa\n",
       "0           1   24  female     4.477894   83.076155   84.535341  2.990492\n",
       "1           2   21  female     2.481730   79.700708         NaN  2.498735\n",
       "2           3   22    male     2.191506   67.809720   77.746341  2.990743\n",
       "3           4   24  female     2.498243   88.898085   60.730695  2.855671\n",
       "4           5   20    male     3.915402   71.230894         NaN  3.161359\n",
       "5           6   22  female          NaN   60.972639         NaN  2.586385\n",
       "6           7   22  female     2.470240   85.818892   59.756124  3.259673"
      ]
     },
     "execution_count": 73,
     "metadata": {},
     "output_type": "execute_result"
    }
   ],
   "source": [
    "df.loc[5, 'study_hours'] = np.nan\n",
    "df.loc[[1,4,67,32,5], 'Test_Score'] = np.nan \n",
    "df.loc[32, 'attendance'] = np.nan\n",
    "df.head(7)"
   ]
  },
  {
   "cell_type": "code",
   "execution_count": 74,
   "metadata": {},
   "outputs": [
    {
     "data": {
      "text/plain": [
       "student_ID     0\n",
       "Age            0\n",
       "gender         0\n",
       "study_hours    1\n",
       "attendance     1\n",
       "Test_Score     5\n",
       "gpa            0\n",
       "dtype: int64"
      ]
     },
     "execution_count": 74,
     "metadata": {},
     "output_type": "execute_result"
    }
   ],
   "source": [
    "df.isnull().sum()"
   ]
  },
  {
   "cell_type": "code",
   "execution_count": 75,
   "metadata": {},
   "outputs": [
    {
     "name": "stderr",
     "output_type": "stream",
     "text": [
      "/var/folders/yj/9wfz_8rx43q67nx6ltqgdbbw0000gn/T/ipykernel_39911/4081266505.py:2: FutureWarning: A value is trying to be set on a copy of a DataFrame or Series through chained assignment using an inplace method.\n",
      "The behavior will change in pandas 3.0. This inplace method will never work because the intermediate object on which we are setting values always behaves as a copy.\n",
      "\n",
      "For example, when doing 'df[col].method(value, inplace=True)', try using 'df.method({col: value}, inplace=True)' or df[col] = df[col].method(value) instead, to perform the operation inplace on the original object.\n",
      "\n",
      "\n",
      "  df['study_hours'].fillna(df[\"study_hours\"].mean(), inplace=True)\n",
      "/var/folders/yj/9wfz_8rx43q67nx6ltqgdbbw0000gn/T/ipykernel_39911/4081266505.py:3: FutureWarning: A value is trying to be set on a copy of a DataFrame or Series through chained assignment using an inplace method.\n",
      "The behavior will change in pandas 3.0. This inplace method will never work because the intermediate object on which we are setting values always behaves as a copy.\n",
      "\n",
      "For example, when doing 'df[col].method(value, inplace=True)', try using 'df.method({col: value}, inplace=True)' or df[col] = df[col].method(value) instead, to perform the operation inplace on the original object.\n",
      "\n",
      "\n",
      "  df['attendance'].fillna(df['attendance'].median(), inplace=True)\n",
      "/var/folders/yj/9wfz_8rx43q67nx6ltqgdbbw0000gn/T/ipykernel_39911/4081266505.py:4: FutureWarning: A value is trying to be set on a copy of a DataFrame or Series through chained assignment using an inplace method.\n",
      "The behavior will change in pandas 3.0. This inplace method will never work because the intermediate object on which we are setting values always behaves as a copy.\n",
      "\n",
      "For example, when doing 'df[col].method(value, inplace=True)', try using 'df.method({col: value}, inplace=True)' or df[col] = df[col].method(value) instead, to perform the operation inplace on the original object.\n",
      "\n",
      "\n",
      "  df['Test_Score'].fillna(df['Test_Score'].median(), inplace=True)\n"
     ]
    }
   ],
   "source": [
    "# handling missing values\n",
    "df['study_hours'].fillna(df[\"study_hours\"].mean(), inplace=True)\n",
    "df['attendance'].fillna(df['attendance'].median(), inplace=True)\n",
    "df['Test_Score'].fillna(df['Test_Score'].median(), inplace=True)\n"
   ]
  },
  {
   "cell_type": "code",
   "execution_count": 76,
   "metadata": {},
   "outputs": [
    {
     "name": "stdout",
     "output_type": "stream",
     "text": [
      "outliers:  study_hours    2\n",
      "Test_Score     3\n",
      "dtype: int64\n"
     ]
    }
   ],
   "source": [
    "# test for outliers:\n",
    "from scipy.stats import zscore\n",
    "cols = ['study_hours', 'Test_Score']\n",
    "z_scores = df[cols].apply(zscore)\n",
    "outliers = (z_scores.abs()>3)\n",
    "print(\"outliers: \", outliers.sum())\n"
   ]
  },
  {
   "cell_type": "code",
   "execution_count": 77,
   "metadata": {},
   "outputs": [],
   "source": [
    "for col in cols:\n",
    "    lower = df[col].quantile(0.01)\n",
    "    higher = df[col].quantile(0.99)\n",
    "    df[col] = df[col].clip(lower,higher)\n",
    "                              "
   ]
  },
  {
   "cell_type": "code",
   "execution_count": 80,
   "metadata": {},
   "outputs": [
    {
     "name": "stdout",
     "output_type": "stream",
     "text": [
      "study_hours - Outliers Detected (IQR): 3\n",
      "Test_Score - Outliers Detected (IQR): 3\n"
     ]
    }
   ],
   "source": [
    "for col in cols:\n",
    "    Q1 = df[col].quantile(0.25)\n",
    "    Q3 = df[col].quantile(0.75)\n",
    "    IQR = Q3 - Q1\n",
    "    lower = Q1 - 1.5 * IQR\n",
    "    upper = Q3 + 1.5 * IQR\n",
    "    outliers_iqr = df[(df[col] < lower) | (df[col] > upper)]\n",
    "    print(f\"{col} - Outliers Detected (IQR):\", outliers_iqr.shape[0])"
   ]
  },
  {
   "cell_type": "code",
   "execution_count": 81,
   "metadata": {},
   "outputs": [],
   "source": [
    "from scipy.stats import boxcox\n",
    "df['study_hours'] = np.where(df['study_hours']>0,df['study_hours'],0.1)\n",
    "df['study_hours_boxcox'], _ = boxcox(df['study_hours'])\n"
   ]
  },
  {
   "cell_type": "code",
   "execution_count": 84,
   "metadata": {},
   "outputs": [
    {
     "data": {
      "image/png": "[encoded data removed]",
      "text/plain": [
       "<Figure size 640x480 with 1 Axes>"
      ]
     },
     "metadata": {},
     "output_type": "display_data"
    },
    {
     "data": {
      "image/png": "[encoded data removed]",
      "text/plain": [
       "<Figure size 640x480 with 1 Axes>"
      ]
     },
     "metadata": {},
     "output_type": "display_data"
    }
   ],
   "source": [
    "import seaborn as sns\n",
    "import matplotlib.pyplot as plt\n",
    "sns.histplot(df['study_hours'], kde=True)\n",
    "plt.title(\"Before Transformation\")\n",
    "plt.show()\n",
    "\n",
    "sns.histplot(df['study_hours_boxcox'], kde=True)\n",
    "plt.title(\"After Box-Cox Transformation\")\n",
    "plt.show()"
   ]
  },
  {
   "cell_type": "code",
   "execution_count": null,
   "metadata": {},
   "outputs": [],
   "source": []
  }
 ],
 "metadata": {
  "kernelspec": {
   "display_name": "Python 3",
   "language": "python",
   "name": "python3"
  },
  "language_info": {
   "codemirror_mode": {
    "name": "ipython",
    "version": 3
   },
   "file_extension": ".py",
   "mimetype": "text/x-python",
   "name": "python",
   "nbconvert_exporter": "python",
   "pygments_lexer": "ipython3",
   "version": "3.12.4"
  }
 },
 "nbformat": 4,
 "nbformat_minor": 2
}
